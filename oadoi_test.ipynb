{
 "cells": [
  {
   "cell_type": "markdown",
   "metadata": {},
   "source": [
    "# oadoi-Test mit verschiedenen DOIs aus PSYNDEX"
   ]
  },
  {
   "cell_type": "code",
   "execution_count": 17,
   "metadata": {
    "collapsed": true
   },
   "outputs": [],
   "source": [
    "import requests\n",
    "import pprint\n",
    "import json"
   ]
  },
  {
   "cell_type": "code",
   "execution_count": 18,
   "metadata": {
    "collapsed": true
   },
   "outputs": [],
   "source": [
    "apiurl = 'https://api.oadoi.org/v2'\n",
    "headers = {\"Accept\":\"application/json\"} \n",
    "email = '?emailweiland@zpid.de'"
   ]
  },
  {
   "cell_type": "markdown",
   "metadata": {},
   "source": [
    "Example\thttps://api.oadoi.org/v2/10.1038/nature12373?email=test@example.com"
   ]
  },
  {
   "cell_type": "code",
   "execution_count": 19,
   "metadata": {
    "collapsed": true
   },
   "outputs": [],
   "source": [
    "http_proxy  = \"http://136.199.85.49:8080\"\n",
    "https_proxy = \"http://136.199.85.49:8080\"\n",
    "\n",
    "\n",
    "proxyDict = { \n",
    "              \"http\"  : http_proxy, \n",
    "              \"https\" : https_proxy\n",
    "            }"
   ]
  },
  {
   "cell_type": "code",
   "execution_count": 27,
   "metadata": {
    "collapsed": true
   },
   "outputs": [],
   "source": [
    "dois = ['10.1007/s11192-015-1573-y','10.1026/0012-1924/a000122','10.1026/0033..42/a000234']\n"
   ]
  },
  {
   "cell_type": "code",
   "execution_count": 38,
   "metadata": {
    "collapsed": true
   },
   "outputs": [],
   "source": [
    "def check_oa(doi, apiurl, email, proxyDict):\n",
    "    url = apiurl + '/' + doi + email\n",
    "    r = requests.get(url, headers = headers, proxies = proxyDict)\n",
    "    #pp = pprint.PrettyPrinter(indent=4)\n",
    "    #pp.pprint(r.json())\n",
    "    parsed_result = r.json()\n",
    "    print(doi, parsed_result['is_oa'])"
   ]
  },
  {
   "cell_type": "code",
   "execution_count": 39,
   "metadata": {
    "collapsed": false
   },
   "outputs": [
    {
     "name": "stdout",
     "output_type": "stream",
     "text": [
      "10.1007/s11192-015-1573-y True\n",
      "10.1026/0012-1924/a000122 False\n",
      "10.1026/0033..42/a000234 False\n"
     ]
    }
   ],
   "source": [
    "for doi in dois:\n",
    "    check_oa(doi, apiurl, email, proxyDict)"
   ]
  },
  {
   "cell_type": "code",
   "execution_count": null,
   "metadata": {
    "collapsed": true
   },
   "outputs": [],
   "source": []
  }
 ],
 "metadata": {
  "kernelspec": {
   "display_name": "Python 3",
   "language": "python",
   "name": "python3"
  },
  "language_info": {
   "codemirror_mode": {
    "name": "ipython",
    "version": 3
   },
   "file_extension": ".py",
   "mimetype": "text/x-python",
   "name": "python",
   "nbconvert_exporter": "python",
   "pygments_lexer": "ipython3",
   "version": "3.4.3"
  }
 },
 "nbformat": 4,
 "nbformat_minor": 1
}
